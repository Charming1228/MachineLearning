{
 "cells": [
  {
   "cell_type": "markdown",
   "id": "813ab179",
   "metadata": {
    "id": "F_rgK2oWXizn",
    "papermill": {
     "duration": 0.004694,
     "end_time": "2025-03-03T16:40:19.436532",
     "exception": false,
     "start_time": "2025-03-03T16:40:19.431838",
     "status": "completed"
    },
    "tags": []
   },
   "source": [
    "import libraries"
   ]
  },
  {
   "cell_type": "code",
   "execution_count": null,
   "id": "0e4740f4",
   "metadata": {
    "execution": {
     "iopub.execute_input": "2025-03-03T16:40:19.446048Z",
     "iopub.status.busy": "2025-03-03T16:40:19.445684Z",
     "iopub.status.idle": "2025-03-03T16:40:22.210180Z",
     "shell.execute_reply": "2025-03-03T16:40:22.209083Z"
    },
    "id": "kfseI3xPW5Z0",
    "papermill": {
     "duration": 2.77193,
     "end_time": "2025-03-03T16:40:22.212415",
     "exception": false,
     "start_time": "2025-03-03T16:40:19.440485",
     "status": "completed"
    },
    "tags": []
   },
   "outputs": [],
   "source": [
    "import numpy as np\n",
    "import pandas as pd\n",
    "import seaborn as sns\n",
    "import matplotlib.pyplot as plt\n",
    "from sklearn.model_selection import train_test_split\n",
    "from sklearn.metrics import accuracy_score"
   ]
  },
  {
   "cell_type": "markdown",
   "id": "00b79885",
   "metadata": {
    "id": "f9TegATpYWTQ",
    "papermill": {
     "duration": 0.003896,
     "end_time": "2025-03-03T16:40:22.220883",
     "exception": false,
     "start_time": "2025-03-03T16:40:22.216987",
     "status": "completed"
    },
    "tags": []
   },
   "source": [
    "data collection and data processing"
   ]
  },
  {
   "cell_type": "code",
   "execution_count": null,
   "id": "5a535aaa",
   "metadata": {
    "execution": {
     "iopub.execute_input": "2025-03-03T16:40:22.231732Z",
     "iopub.status.busy": "2025-03-03T16:40:22.231261Z",
     "iopub.status.idle": "2025-03-03T16:40:22.258026Z",
     "shell.execute_reply": "2025-03-03T16:40:22.257140Z"
    },
    "id": "44PAq7W5YbzA",
    "papermill": {
     "duration": 0.035355,
     "end_time": "2025-03-03T16:40:22.260310",
     "exception": false,
     "start_time": "2025-03-03T16:40:22.224955",
     "status": "completed"
    },
    "tags": []
   },
   "outputs": [],
   "source": [
    "#loading dataset to pandas dataframe\n",
    "\n",
    "\n",
    "sonar_data= pd.read_csv('data/sonar_data.csv',header = None)"
   ]
  },
  {
   "cell_type": "code",
   "execution_count": null,
   "id": "2a4eca56",
   "metadata": {
    "execution": {
     "iopub.execute_input": "2025-03-03T16:40:22.270375Z",
     "iopub.status.busy": "2025-03-03T16:40:22.270056Z",
     "iopub.status.idle": "2025-03-03T16:40:22.305181Z",
     "shell.execute_reply": "2025-03-03T16:40:22.304391Z"
    },
    "id": "1zKVNMtCY4cV",
    "outputId": "b5945f48-9972-42e6-a797-f8c4f220f81d",
    "papermill": {
     "duration": 0.041993,
     "end_time": "2025-03-03T16:40:22.306796",
     "exception": false,
     "start_time": "2025-03-03T16:40:22.264803",
     "status": "completed"
    },
    "tags": []
   },
   "outputs": [],
   "source": [
    "sonar_data.head()\n",
    "# 61 columns, the last one is the target (R: rock or M: mine)"
   ]
  },
  {
   "cell_type": "code",
   "execution_count": null,
   "id": "c16c7be9",
   "metadata": {
    "execution": {
     "iopub.execute_input": "2025-03-03T16:40:22.317515Z",
     "iopub.status.busy": "2025-03-03T16:40:22.317156Z",
     "iopub.status.idle": "2025-03-03T16:40:22.323884Z",
     "shell.execute_reply": "2025-03-03T16:40:22.322051Z"
    },
    "id": "sFAUP_uUZZ1r",
    "outputId": "a8ee6a2f-534f-4115-b207-2309abd76dfb",
    "papermill": {
     "duration": 0.015169,
     "end_time": "2025-03-03T16:40:22.326542",
     "exception": false,
     "start_time": "2025-03-03T16:40:22.311373",
     "status": "completed"
    },
    "tags": []
   },
   "outputs": [],
   "source": [
    "# number of rows and columns\n",
    "sonar_data.shape"
   ]
  },
  {
   "cell_type": "code",
   "execution_count": null,
   "id": "ac388b23",
   "metadata": {
    "execution": {
     "iopub.execute_input": "2025-03-03T16:40:22.337495Z",
     "iopub.status.busy": "2025-03-03T16:40:22.337161Z",
     "iopub.status.idle": "2025-03-03T16:40:22.420503Z",
     "shell.execute_reply": "2025-03-03T16:40:22.419081Z"
    },
    "id": "2G1ek40calNg",
    "outputId": "e402e24c-b6b2-4bcf-f4df-5a30b4f99d4e",
    "papermill": {
     "duration": 0.09157,
     "end_time": "2025-03-03T16:40:22.423053",
     "exception": false,
     "start_time": "2025-03-03T16:40:22.331483",
     "status": "completed"
    },
    "tags": []
   },
   "outputs": [],
   "source": [
    "sonar_data.describe()"
   ]
  },
  {
   "cell_type": "code",
   "execution_count": null,
   "id": "f7bf5107",
   "metadata": {
    "execution": {
     "iopub.execute_input": "2025-03-03T16:40:22.435562Z",
     "iopub.status.busy": "2025-03-03T16:40:22.435210Z",
     "iopub.status.idle": "2025-03-03T16:40:22.445639Z",
     "shell.execute_reply": "2025-03-03T16:40:22.444342Z"
    },
    "id": "_I5xrLf0axjY",
    "outputId": "c0e09180-1918-4626-8a78-44e72f391eab",
    "papermill": {
     "duration": 0.019247,
     "end_time": "2025-03-03T16:40:22.447560",
     "exception": false,
     "start_time": "2025-03-03T16:40:22.428313",
     "status": "completed"
    },
    "tags": []
   },
   "outputs": [],
   "source": [
    "sonar_data[60].value_counts()"
   ]
  },
  {
   "cell_type": "markdown",
   "id": "5d0b6312",
   "metadata": {
    "id": "2KptR6ztbuZ-",
    "papermill": {
     "duration": 0.004565,
     "end_time": "2025-03-03T16:40:22.457215",
     "exception": false,
     "start_time": "2025-03-03T16:40:22.452650",
     "status": "completed"
    },
    "tags": []
   },
   "source": [
    "M--->Mine\n",
    "\n",
    "R--->Rock"
   ]
  },
  {
   "cell_type": "code",
   "execution_count": null,
   "id": "6f4f46bb",
   "metadata": {
    "execution": {
     "iopub.execute_input": "2025-03-03T16:40:22.469448Z",
     "iopub.status.busy": "2025-03-03T16:40:22.469021Z",
     "iopub.status.idle": "2025-03-03T16:40:22.492696Z",
     "shell.execute_reply": "2025-03-03T16:40:22.491909Z"
    },
    "id": "QC6uOJ5VbI2X",
    "outputId": "73a0c107-10b8-4914-c61b-8d7217b6b95e",
    "papermill": {
     "duration": 0.031177,
     "end_time": "2025-03-03T16:40:22.494222",
     "exception": false,
     "start_time": "2025-03-03T16:40:22.463045",
     "status": "completed"
    },
    "tags": []
   },
   "outputs": [],
   "source": [
    "sonar_data.groupby(60).mean()"
   ]
  },
  {
   "cell_type": "code",
   "execution_count": null,
   "id": "6df96e54",
   "metadata": {
    "execution": {
     "iopub.execute_input": "2025-03-03T16:40:22.505685Z",
     "iopub.status.busy": "2025-03-03T16:40:22.505338Z",
     "iopub.status.idle": "2025-03-03T16:40:22.511624Z",
     "shell.execute_reply": "2025-03-03T16:40:22.510773Z"
    },
    "id": "q1z7QzTVcCJu",
    "papermill": {
     "duration": 0.013885,
     "end_time": "2025-03-03T16:40:22.513193",
     "exception": false,
     "start_time": "2025-03-03T16:40:22.499308",
     "status": "completed"
    },
    "tags": []
   },
   "outputs": [],
   "source": [
    "#separating data and lebals\n",
    "x= sonar_data.drop(columns=60, axis=1)\n",
    "y= sonar_data[60]\n",
    "y = pd.get_dummies(y,drop_first=True)"
   ]
  },
  {
   "cell_type": "code",
   "execution_count": null,
   "id": "e6c93e6d",
   "metadata": {
    "execution": {
     "iopub.execute_input": "2025-03-03T16:40:22.524338Z",
     "iopub.status.busy": "2025-03-03T16:40:22.523786Z",
     "iopub.status.idle": "2025-03-03T16:40:22.533734Z",
     "shell.execute_reply": "2025-03-03T16:40:22.533018Z"
    },
    "papermill": {
     "duration": 0.017075,
     "end_time": "2025-03-03T16:40:22.535245",
     "exception": false,
     "start_time": "2025-03-03T16:40:22.518170",
     "status": "completed"
    },
    "tags": []
   },
   "outputs": [],
   "source": [
    "x.iloc[:,:3]"
   ]
  },
  {
   "cell_type": "code",
   "execution_count": null,
   "id": "c9f96206",
   "metadata": {
    "execution": {
     "iopub.execute_input": "2025-03-03T16:40:22.547334Z",
     "iopub.status.busy": "2025-03-03T16:40:22.547036Z",
     "iopub.status.idle": "2025-03-03T16:40:23.110344Z",
     "shell.execute_reply": "2025-03-03T16:40:23.109214Z"
    },
    "papermill": {
     "duration": 0.571245,
     "end_time": "2025-03-03T16:40:23.112100",
     "exception": false,
     "start_time": "2025-03-03T16:40:22.540855",
     "status": "completed"
    },
    "tags": []
   },
   "outputs": [],
   "source": [
    "plt.figure(figsize =( 20,20))\n",
    "sns.heatmap(x.iloc[:,:10].corr(),annot = True)"
   ]
  },
  {
   "cell_type": "code",
   "execution_count": null,
   "id": "49c1ade9",
   "metadata": {
    "execution": {
     "iopub.execute_input": "2025-03-03T16:40:23.127552Z",
     "iopub.status.busy": "2025-03-03T16:40:23.127231Z",
     "iopub.status.idle": "2025-03-03T16:40:23.131678Z",
     "shell.execute_reply": "2025-03-03T16:40:23.130978Z"
    },
    "id": "He2pJj_HccZI",
    "outputId": "83d2b5d9-23ad-41b6-f89e-e3b21be42e3b",
    "papermill": {
     "duration": 0.013532,
     "end_time": "2025-03-03T16:40:23.133135",
     "exception": false,
     "start_time": "2025-03-03T16:40:23.119603",
     "status": "completed"
    },
    "tags": []
   },
   "outputs": [],
   "source": [
    "print(x.shape)\n",
    "print(y.shape)"
   ]
  },
  {
   "cell_type": "markdown",
   "id": "95f50434",
   "metadata": {
    "id": "U4_nyfdZcjcv",
    "papermill": {
     "duration": 0.005618,
     "end_time": "2025-03-03T16:40:23.144970",
     "exception": false,
     "start_time": "2025-03-03T16:40:23.139352",
     "status": "completed"
    },
    "tags": []
   },
   "source": [
    "training and test data"
   ]
  },
  {
   "cell_type": "code",
   "execution_count": null,
   "id": "6a081a9c",
   "metadata": {
    "execution": {
     "iopub.execute_input": "2025-03-03T16:40:23.158277Z",
     "iopub.status.busy": "2025-03-03T16:40:23.157934Z",
     "iopub.status.idle": "2025-03-03T16:40:23.168990Z",
     "shell.execute_reply": "2025-03-03T16:40:23.168204Z"
    },
    "id": "W-GXFbxucglo",
    "papermill": {
     "duration": 0.019603,
     "end_time": "2025-03-03T16:40:23.170528",
     "exception": false,
     "start_time": "2025-03-03T16:40:23.150925",
     "status": "completed"
    },
    "tags": []
   },
   "outputs": [],
   "source": [
    "x_train, x_test, y_train, y_test= train_test_split(x,y,test_size=0.1,stratify=y,random_state=1)"
   ]
  },
  {
   "cell_type": "code",
   "execution_count": null,
   "id": "520faab2",
   "metadata": {
    "execution": {
     "iopub.execute_input": "2025-03-03T16:40:23.184374Z",
     "iopub.status.busy": "2025-03-03T16:40:23.184025Z",
     "iopub.status.idle": "2025-03-03T16:40:23.190379Z",
     "shell.execute_reply": "2025-03-03T16:40:23.188980Z"
    },
    "id": "cwOVg1JrdKgj",
    "outputId": "cc93a837-8efd-45dc-a1f2-8c8971af021d",
    "papermill": {
     "duration": 0.015706,
     "end_time": "2025-03-03T16:40:23.192514",
     "exception": false,
     "start_time": "2025-03-03T16:40:23.176808",
     "status": "completed"
    },
    "tags": []
   },
   "outputs": [],
   "source": [
    "print(x.shape, x_train.shape, x_test.shape, y_test.shape)"
   ]
  },
  {
   "cell_type": "code",
   "execution_count": null,
   "id": "57c9c709",
   "metadata": {
    "execution": {
     "iopub.execute_input": "2025-03-03T16:40:23.207248Z",
     "iopub.status.busy": "2025-03-03T16:40:23.206870Z",
     "iopub.status.idle": "2025-03-03T16:40:23.222860Z",
     "shell.execute_reply": "2025-03-03T16:40:23.221454Z"
    },
    "id": "esPKlAf1dpIB",
    "outputId": "2b635c6b-8749-4e7c-ab10-b56eca8892c1",
    "papermill": {
     "duration": 0.025244,
     "end_time": "2025-03-03T16:40:23.224627",
     "exception": false,
     "start_time": "2025-03-03T16:40:23.199383",
     "status": "completed"
    },
    "tags": []
   },
   "outputs": [],
   "source": [
    "print(x_train)\n",
    "print(y_train)"
   ]
  },
  {
   "cell_type": "markdown",
   "id": "8867ea95",
   "metadata": {
    "id": "etEa6HI1dWlr",
    "papermill": {
     "duration": 0.006173,
     "end_time": "2025-03-03T16:40:23.237490",
     "exception": false,
     "start_time": "2025-03-03T16:40:23.231317",
     "status": "completed"
    },
    "tags": []
   },
   "source": [
    "model training--->SVM"
   ]
  },
  {
   "cell_type": "code",
   "execution_count": null,
   "id": "b617e792",
   "metadata": {},
   "outputs": [],
   "source": [
    "# 练习：使用SVM进行训练与测试，并计算指标\n",
    "model = ... # 定义模型\n",
    "... # 训练\n",
    "... # 测试\n",
    "... # 计算正确率\n",
    "print(f'accuracy: {...}')"
   ]
  },
  {
   "cell_type": "code",
   "execution_count": null,
   "id": "cf12bdf5",
   "metadata": {
    "papermill": {
     "duration": 0.006728,
     "end_time": "2025-03-03T16:40:23.900531",
     "exception": false,
     "start_time": "2025-03-03T16:40:23.893803",
     "status": "completed"
    },
    "tags": []
   },
   "outputs": [],
   "source": [
    "# 练习：使用线性模型进行训练与测试，并计算指标\n",
    "model = ... # 定义模型\n",
    "... # 训练\n",
    "... # 测试\n",
    "... # 计算正确率\n",
    "print(f'accuracy: {...}')"
   ]
  },
  {
   "cell_type": "code",
   "execution_count": null,
   "id": "8b42eb11",
   "metadata": {},
   "outputs": [],
   "source": [
    "# 练习：使用随机森林进行训练与测试，并计算指标\n",
    "model = ... # 定义模型\n",
    "... # 训练\n",
    "... # 测试\n",
    "... # 计算正确率\n",
    "print(f'accuracy: {...}')"
   ]
  }
 ],
 "metadata": {
  "colab": {
   "provenance": []
  },
  "kaggle": {
   "accelerator": "none",
   "dataSources": [
    {
     "datasetId": 4729000,
     "sourceId": 8024617,
     "sourceType": "datasetVersion"
    }
   ],
   "dockerImageVersionId": 30746,
   "isGpuEnabled": false,
   "isInternetEnabled": false,
   "language": "python",
   "sourceType": "notebook"
  },
  "kernelspec": {
   "display_name": "Python 3",
   "name": "python3"
  },
  "language_info": {
   "codemirror_mode": {
    "name": "ipython",
    "version": 3
   },
   "file_extension": ".py",
   "mimetype": "text/x-python",
   "name": "python",
   "nbconvert_exporter": "python",
   "pygments_lexer": "ipython3",
   "version": "3.8.11"
  },
  "papermill": {
   "default_parameters": {},
   "duration": 8.172261,
   "end_time": "2025-03-03T16:40:24.529205",
   "environment_variables": {},
   "exception": null,
   "input_path": "__notebook__.ipynb",
   "output_path": "__notebook__.ipynb",
   "parameters": {},
   "start_time": "2025-03-03T16:40:16.356944",
   "version": "2.5.0"
  }
 },
 "nbformat": 4,
 "nbformat_minor": 5
}
