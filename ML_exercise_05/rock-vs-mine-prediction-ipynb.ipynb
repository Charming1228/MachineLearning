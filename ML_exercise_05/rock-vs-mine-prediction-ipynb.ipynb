{
 "cells": [
  {
   "cell_type": "markdown",
   "id": "813ab179",
   "metadata": {
    "id": "F_rgK2oWXizn",
    "papermill": {
     "duration": 0.004694,
     "end_time": "2025-03-03T16:40:19.436532",
     "exception": false,
     "start_time": "2025-03-03T16:40:19.431838",
     "status": "completed"
    },
    "tags": []
   },
   "source": [
    "import libraries"
   ]
  },
  {
   "cell_type": "code",
   "execution_count": 1,
   "id": "0e4740f4",
   "metadata": {
    "execution": {
     "iopub.execute_input": "2025-03-03T16:40:19.446048Z",
     "iopub.status.busy": "2025-03-03T16:40:19.445684Z",
     "iopub.status.idle": "2025-03-03T16:40:22.210180Z",
     "shell.execute_reply": "2025-03-03T16:40:22.209083Z"
    },
    "id": "kfseI3xPW5Z0",
    "papermill": {
     "duration": 2.77193,
     "end_time": "2025-03-03T16:40:22.212415",
     "exception": false,
     "start_time": "2025-03-03T16:40:19.440485",
     "status": "completed"
    },
    "tags": []
   },
   "outputs": [],
   "source": [
    "import numpy as np\n",
    "import pandas as pd\n",
    "import seaborn as sns\n",
    "import matplotlib.pyplot as plt\n",
    "from sklearn.model_selection import train_test_split\n",
    "from sklearn.metrics import accuracy_score"
   ]
  },
  {
   "cell_type": "markdown",
   "id": "00b79885",
   "metadata": {
    "id": "f9TegATpYWTQ",
    "papermill": {
     "duration": 0.003896,
     "end_time": "2025-03-03T16:40:22.220883",
     "exception": false,
     "start_time": "2025-03-03T16:40:22.216987",
     "status": "completed"
    },
    "tags": []
   },
   "source": [
    "data collection and data processing"
   ]
  },
  {
   "cell_type": "code",
   "execution_count": 2,
   "id": "5a535aaa",
   "metadata": {
    "execution": {
     "iopub.execute_input": "2025-03-03T16:40:22.231732Z",
     "iopub.status.busy": "2025-03-03T16:40:22.231261Z",
     "iopub.status.idle": "2025-03-03T16:40:22.258026Z",
     "shell.execute_reply": "2025-03-03T16:40:22.257140Z"
    },
    "id": "44PAq7W5YbzA",
    "papermill": {
     "duration": 0.035355,
     "end_time": "2025-03-03T16:40:22.260310",
     "exception": false,
     "start_time": "2025-03-03T16:40:22.224955",
     "status": "completed"
    },
    "tags": []
   },
   "outputs": [],
   "source": [
    "#loading dataset to pandas dataframe\n",
    "\n",
    "\n",
    "sonar_data= pd.read_csv('data/sonar_data.csv',header = None)"
   ]
  },
  {
   "cell_type": "code",
   "execution_count": 3,
   "id": "2a4eca56",
   "metadata": {
    "execution": {
     "iopub.execute_input": "2025-03-03T16:40:22.270375Z",
     "iopub.status.busy": "2025-03-03T16:40:22.270056Z",
     "iopub.status.idle": "2025-03-03T16:40:22.305181Z",
     "shell.execute_reply": "2025-03-03T16:40:22.304391Z"
    },
    "id": "1zKVNMtCY4cV",
    "outputId": "b5945f48-9972-42e6-a797-f8c4f220f81d",
    "papermill": {
     "duration": 0.041993,
     "end_time": "2025-03-03T16:40:22.306796",
     "exception": false,
     "start_time": "2025-03-03T16:40:22.264803",
     "status": "completed"
    },
    "tags": []
   },
   "outputs": [
    {
     "data": {
      "text/html": [
       "<div>\n",
       "<style scoped>\n",
       "    .dataframe tbody tr th:only-of-type {\n",
       "        vertical-align: middle;\n",
       "    }\n",
       "\n",
       "    .dataframe tbody tr th {\n",
       "        vertical-align: top;\n",
       "    }\n",
       "\n",
       "    .dataframe thead th {\n",
       "        text-align: right;\n",
       "    }\n",
       "</style>\n",
       "<table border=\"1\" class=\"dataframe\">\n",
       "  <thead>\n",
       "    <tr style=\"text-align: right;\">\n",
       "      <th></th>\n",
       "      <th>0</th>\n",
       "      <th>1</th>\n",
       "      <th>2</th>\n",
       "      <th>3</th>\n",
       "      <th>4</th>\n",
       "      <th>5</th>\n",
       "      <th>6</th>\n",
       "      <th>7</th>\n",
       "      <th>8</th>\n",
       "      <th>9</th>\n",
       "      <th>...</th>\n",
       "      <th>51</th>\n",
       "      <th>52</th>\n",
       "      <th>53</th>\n",
       "      <th>54</th>\n",
       "      <th>55</th>\n",
       "      <th>56</th>\n",
       "      <th>57</th>\n",
       "      <th>58</th>\n",
       "      <th>59</th>\n",
       "      <th>60</th>\n",
       "    </tr>\n",
       "  </thead>\n",
       "  <tbody>\n",
       "    <tr>\n",
       "      <th>0</th>\n",
       "      <td>0.0200</td>\n",
       "      <td>0.0371</td>\n",
       "      <td>0.0428</td>\n",
       "      <td>0.0207</td>\n",
       "      <td>0.0954</td>\n",
       "      <td>0.0986</td>\n",
       "      <td>0.1539</td>\n",
       "      <td>0.1601</td>\n",
       "      <td>0.3109</td>\n",
       "      <td>0.2111</td>\n",
       "      <td>...</td>\n",
       "      <td>0.0027</td>\n",
       "      <td>0.0065</td>\n",
       "      <td>0.0159</td>\n",
       "      <td>0.0072</td>\n",
       "      <td>0.0167</td>\n",
       "      <td>0.0180</td>\n",
       "      <td>0.0084</td>\n",
       "      <td>0.0090</td>\n",
       "      <td>0.0032</td>\n",
       "      <td>R</td>\n",
       "    </tr>\n",
       "    <tr>\n",
       "      <th>1</th>\n",
       "      <td>0.0453</td>\n",
       "      <td>0.0523</td>\n",
       "      <td>0.0843</td>\n",
       "      <td>0.0689</td>\n",
       "      <td>0.1183</td>\n",
       "      <td>0.2583</td>\n",
       "      <td>0.2156</td>\n",
       "      <td>0.3481</td>\n",
       "      <td>0.3337</td>\n",
       "      <td>0.2872</td>\n",
       "      <td>...</td>\n",
       "      <td>0.0084</td>\n",
       "      <td>0.0089</td>\n",
       "      <td>0.0048</td>\n",
       "      <td>0.0094</td>\n",
       "      <td>0.0191</td>\n",
       "      <td>0.0140</td>\n",
       "      <td>0.0049</td>\n",
       "      <td>0.0052</td>\n",
       "      <td>0.0044</td>\n",
       "      <td>R</td>\n",
       "    </tr>\n",
       "    <tr>\n",
       "      <th>2</th>\n",
       "      <td>0.0262</td>\n",
       "      <td>0.0582</td>\n",
       "      <td>0.1099</td>\n",
       "      <td>0.1083</td>\n",
       "      <td>0.0974</td>\n",
       "      <td>0.2280</td>\n",
       "      <td>0.2431</td>\n",
       "      <td>0.3771</td>\n",
       "      <td>0.5598</td>\n",
       "      <td>0.6194</td>\n",
       "      <td>...</td>\n",
       "      <td>0.0232</td>\n",
       "      <td>0.0166</td>\n",
       "      <td>0.0095</td>\n",
       "      <td>0.0180</td>\n",
       "      <td>0.0244</td>\n",
       "      <td>0.0316</td>\n",
       "      <td>0.0164</td>\n",
       "      <td>0.0095</td>\n",
       "      <td>0.0078</td>\n",
       "      <td>R</td>\n",
       "    </tr>\n",
       "    <tr>\n",
       "      <th>3</th>\n",
       "      <td>0.0100</td>\n",
       "      <td>0.0171</td>\n",
       "      <td>0.0623</td>\n",
       "      <td>0.0205</td>\n",
       "      <td>0.0205</td>\n",
       "      <td>0.0368</td>\n",
       "      <td>0.1098</td>\n",
       "      <td>0.1276</td>\n",
       "      <td>0.0598</td>\n",
       "      <td>0.1264</td>\n",
       "      <td>...</td>\n",
       "      <td>0.0121</td>\n",
       "      <td>0.0036</td>\n",
       "      <td>0.0150</td>\n",
       "      <td>0.0085</td>\n",
       "      <td>0.0073</td>\n",
       "      <td>0.0050</td>\n",
       "      <td>0.0044</td>\n",
       "      <td>0.0040</td>\n",
       "      <td>0.0117</td>\n",
       "      <td>R</td>\n",
       "    </tr>\n",
       "    <tr>\n",
       "      <th>4</th>\n",
       "      <td>0.0762</td>\n",
       "      <td>0.0666</td>\n",
       "      <td>0.0481</td>\n",
       "      <td>0.0394</td>\n",
       "      <td>0.0590</td>\n",
       "      <td>0.0649</td>\n",
       "      <td>0.1209</td>\n",
       "      <td>0.2467</td>\n",
       "      <td>0.3564</td>\n",
       "      <td>0.4459</td>\n",
       "      <td>...</td>\n",
       "      <td>0.0031</td>\n",
       "      <td>0.0054</td>\n",
       "      <td>0.0105</td>\n",
       "      <td>0.0110</td>\n",
       "      <td>0.0015</td>\n",
       "      <td>0.0072</td>\n",
       "      <td>0.0048</td>\n",
       "      <td>0.0107</td>\n",
       "      <td>0.0094</td>\n",
       "      <td>R</td>\n",
       "    </tr>\n",
       "  </tbody>\n",
       "</table>\n",
       "<p>5 rows × 61 columns</p>\n",
       "</div>"
      ],
      "text/plain": [
       "       0       1       2       3       4       5       6       7       8   \\\n",
       "0  0.0200  0.0371  0.0428  0.0207  0.0954  0.0986  0.1539  0.1601  0.3109   \n",
       "1  0.0453  0.0523  0.0843  0.0689  0.1183  0.2583  0.2156  0.3481  0.3337   \n",
       "2  0.0262  0.0582  0.1099  0.1083  0.0974  0.2280  0.2431  0.3771  0.5598   \n",
       "3  0.0100  0.0171  0.0623  0.0205  0.0205  0.0368  0.1098  0.1276  0.0598   \n",
       "4  0.0762  0.0666  0.0481  0.0394  0.0590  0.0649  0.1209  0.2467  0.3564   \n",
       "\n",
       "       9   ...      51      52      53      54      55      56      57  \\\n",
       "0  0.2111  ...  0.0027  0.0065  0.0159  0.0072  0.0167  0.0180  0.0084   \n",
       "1  0.2872  ...  0.0084  0.0089  0.0048  0.0094  0.0191  0.0140  0.0049   \n",
       "2  0.6194  ...  0.0232  0.0166  0.0095  0.0180  0.0244  0.0316  0.0164   \n",
       "3  0.1264  ...  0.0121  0.0036  0.0150  0.0085  0.0073  0.0050  0.0044   \n",
       "4  0.4459  ...  0.0031  0.0054  0.0105  0.0110  0.0015  0.0072  0.0048   \n",
       "\n",
       "       58      59  60  \n",
       "0  0.0090  0.0032   R  \n",
       "1  0.0052  0.0044   R  \n",
       "2  0.0095  0.0078   R  \n",
       "3  0.0040  0.0117   R  \n",
       "4  0.0107  0.0094   R  \n",
       "\n",
       "[5 rows x 61 columns]"
      ]
     },
     "execution_count": 3,
     "metadata": {},
     "output_type": "execute_result"
    }
   ],
   "source": [
    "sonar_data.head()\n",
    "# 61 columns, the last one is the target (R: rock or M: mine)"
   ]
  },
  {
   "cell_type": "code",
   "execution_count": 4,
   "id": "c16c7be9",
   "metadata": {
    "execution": {
     "iopub.execute_input": "2025-03-03T16:40:22.317515Z",
     "iopub.status.busy": "2025-03-03T16:40:22.317156Z",
     "iopub.status.idle": "2025-03-03T16:40:22.323884Z",
     "shell.execute_reply": "2025-03-03T16:40:22.322051Z"
    },
    "id": "sFAUP_uUZZ1r",
    "outputId": "a8ee6a2f-534f-4115-b207-2309abd76dfb",
    "papermill": {
     "duration": 0.015169,
     "end_time": "2025-03-03T16:40:22.326542",
     "exception": false,
     "start_time": "2025-03-03T16:40:22.311373",
     "status": "completed"
    },
    "tags": []
   },
   "outputs": [
    {
     "data": {
      "text/plain": [
       "(208, 61)"
      ]
     },
     "execution_count": 4,
     "metadata": {},
     "output_type": "execute_result"
    }
   ],
   "source": [
    "# number of rows and columns\n",
    "sonar_data.shape"
   ]
  },
  {
   "cell_type": "code",
   "execution_count": 5,
   "id": "ac388b23",
   "metadata": {
    "execution": {
     "iopub.execute_input": "2025-03-03T16:40:22.337495Z",
     "iopub.status.busy": "2025-03-03T16:40:22.337161Z",
     "iopub.status.idle": "2025-03-03T16:40:22.420503Z",
     "shell.execute_reply": "2025-03-03T16:40:22.419081Z"
    },
    "id": "2G1ek40calNg",
    "outputId": "e402e24c-b6b2-4bcf-f4df-5a30b4f99d4e",
    "papermill": {
     "duration": 0.09157,
     "end_time": "2025-03-03T16:40:22.423053",
     "exception": false,
     "start_time": "2025-03-03T16:40:22.331483",
     "status": "completed"
    },
    "tags": []
   },
   "outputs": [
    {
     "data": {
      "text/html": [
       "<div>\n",
       "<style scoped>\n",
       "    .dataframe tbody tr th:only-of-type {\n",
       "        vertical-align: middle;\n",
       "    }\n",
       "\n",
       "    .dataframe tbody tr th {\n",
       "        vertical-align: top;\n",
       "    }\n",
       "\n",
       "    .dataframe thead th {\n",
       "        text-align: right;\n",
       "    }\n",
       "</style>\n",
       "<table border=\"1\" class=\"dataframe\">\n",
       "  <thead>\n",
       "    <tr style=\"text-align: right;\">\n",
       "      <th></th>\n",
       "      <th>0</th>\n",
       "      <th>1</th>\n",
       "      <th>2</th>\n",
       "      <th>3</th>\n",
       "      <th>4</th>\n",
       "      <th>5</th>\n",
       "      <th>6</th>\n",
       "      <th>7</th>\n",
       "      <th>8</th>\n",
       "      <th>9</th>\n",
       "      <th>...</th>\n",
       "      <th>50</th>\n",
       "      <th>51</th>\n",
       "      <th>52</th>\n",
       "      <th>53</th>\n",
       "      <th>54</th>\n",
       "      <th>55</th>\n",
       "      <th>56</th>\n",
       "      <th>57</th>\n",
       "      <th>58</th>\n",
       "      <th>59</th>\n",
       "    </tr>\n",
       "  </thead>\n",
       "  <tbody>\n",
       "    <tr>\n",
       "      <th>count</th>\n",
       "      <td>208.000000</td>\n",
       "      <td>208.000000</td>\n",
       "      <td>208.000000</td>\n",
       "      <td>208.000000</td>\n",
       "      <td>208.000000</td>\n",
       "      <td>208.000000</td>\n",
       "      <td>208.000000</td>\n",
       "      <td>208.000000</td>\n",
       "      <td>208.000000</td>\n",
       "      <td>208.000000</td>\n",
       "      <td>...</td>\n",
       "      <td>208.000000</td>\n",
       "      <td>208.000000</td>\n",
       "      <td>208.000000</td>\n",
       "      <td>208.000000</td>\n",
       "      <td>208.000000</td>\n",
       "      <td>208.000000</td>\n",
       "      <td>208.000000</td>\n",
       "      <td>208.000000</td>\n",
       "      <td>208.000000</td>\n",
       "      <td>208.000000</td>\n",
       "    </tr>\n",
       "    <tr>\n",
       "      <th>mean</th>\n",
       "      <td>0.029164</td>\n",
       "      <td>0.038437</td>\n",
       "      <td>0.043832</td>\n",
       "      <td>0.053892</td>\n",
       "      <td>0.075202</td>\n",
       "      <td>0.104570</td>\n",
       "      <td>0.121747</td>\n",
       "      <td>0.134799</td>\n",
       "      <td>0.178003</td>\n",
       "      <td>0.208259</td>\n",
       "      <td>...</td>\n",
       "      <td>0.016069</td>\n",
       "      <td>0.013420</td>\n",
       "      <td>0.010709</td>\n",
       "      <td>0.010941</td>\n",
       "      <td>0.009290</td>\n",
       "      <td>0.008222</td>\n",
       "      <td>0.007820</td>\n",
       "      <td>0.007949</td>\n",
       "      <td>0.007941</td>\n",
       "      <td>0.006507</td>\n",
       "    </tr>\n",
       "    <tr>\n",
       "      <th>std</th>\n",
       "      <td>0.022991</td>\n",
       "      <td>0.032960</td>\n",
       "      <td>0.038428</td>\n",
       "      <td>0.046528</td>\n",
       "      <td>0.055552</td>\n",
       "      <td>0.059105</td>\n",
       "      <td>0.061788</td>\n",
       "      <td>0.085152</td>\n",
       "      <td>0.118387</td>\n",
       "      <td>0.134416</td>\n",
       "      <td>...</td>\n",
       "      <td>0.012008</td>\n",
       "      <td>0.009634</td>\n",
       "      <td>0.007060</td>\n",
       "      <td>0.007301</td>\n",
       "      <td>0.007088</td>\n",
       "      <td>0.005736</td>\n",
       "      <td>0.005785</td>\n",
       "      <td>0.006470</td>\n",
       "      <td>0.006181</td>\n",
       "      <td>0.005031</td>\n",
       "    </tr>\n",
       "    <tr>\n",
       "      <th>min</th>\n",
       "      <td>0.001500</td>\n",
       "      <td>0.000600</td>\n",
       "      <td>0.001500</td>\n",
       "      <td>0.005800</td>\n",
       "      <td>0.006700</td>\n",
       "      <td>0.010200</td>\n",
       "      <td>0.003300</td>\n",
       "      <td>0.005500</td>\n",
       "      <td>0.007500</td>\n",
       "      <td>0.011300</td>\n",
       "      <td>...</td>\n",
       "      <td>0.000000</td>\n",
       "      <td>0.000800</td>\n",
       "      <td>0.000500</td>\n",
       "      <td>0.001000</td>\n",
       "      <td>0.000600</td>\n",
       "      <td>0.000400</td>\n",
       "      <td>0.000300</td>\n",
       "      <td>0.000300</td>\n",
       "      <td>0.000100</td>\n",
       "      <td>0.000600</td>\n",
       "    </tr>\n",
       "    <tr>\n",
       "      <th>25%</th>\n",
       "      <td>0.013350</td>\n",
       "      <td>0.016450</td>\n",
       "      <td>0.018950</td>\n",
       "      <td>0.024375</td>\n",
       "      <td>0.038050</td>\n",
       "      <td>0.067025</td>\n",
       "      <td>0.080900</td>\n",
       "      <td>0.080425</td>\n",
       "      <td>0.097025</td>\n",
       "      <td>0.111275</td>\n",
       "      <td>...</td>\n",
       "      <td>0.008425</td>\n",
       "      <td>0.007275</td>\n",
       "      <td>0.005075</td>\n",
       "      <td>0.005375</td>\n",
       "      <td>0.004150</td>\n",
       "      <td>0.004400</td>\n",
       "      <td>0.003700</td>\n",
       "      <td>0.003600</td>\n",
       "      <td>0.003675</td>\n",
       "      <td>0.003100</td>\n",
       "    </tr>\n",
       "    <tr>\n",
       "      <th>50%</th>\n",
       "      <td>0.022800</td>\n",
       "      <td>0.030800</td>\n",
       "      <td>0.034300</td>\n",
       "      <td>0.044050</td>\n",
       "      <td>0.062500</td>\n",
       "      <td>0.092150</td>\n",
       "      <td>0.106950</td>\n",
       "      <td>0.112100</td>\n",
       "      <td>0.152250</td>\n",
       "      <td>0.182400</td>\n",
       "      <td>...</td>\n",
       "      <td>0.013900</td>\n",
       "      <td>0.011400</td>\n",
       "      <td>0.009550</td>\n",
       "      <td>0.009300</td>\n",
       "      <td>0.007500</td>\n",
       "      <td>0.006850</td>\n",
       "      <td>0.005950</td>\n",
       "      <td>0.005800</td>\n",
       "      <td>0.006400</td>\n",
       "      <td>0.005300</td>\n",
       "    </tr>\n",
       "    <tr>\n",
       "      <th>75%</th>\n",
       "      <td>0.035550</td>\n",
       "      <td>0.047950</td>\n",
       "      <td>0.057950</td>\n",
       "      <td>0.064500</td>\n",
       "      <td>0.100275</td>\n",
       "      <td>0.134125</td>\n",
       "      <td>0.154000</td>\n",
       "      <td>0.169600</td>\n",
       "      <td>0.233425</td>\n",
       "      <td>0.268700</td>\n",
       "      <td>...</td>\n",
       "      <td>0.020825</td>\n",
       "      <td>0.016725</td>\n",
       "      <td>0.014900</td>\n",
       "      <td>0.014500</td>\n",
       "      <td>0.012100</td>\n",
       "      <td>0.010575</td>\n",
       "      <td>0.010425</td>\n",
       "      <td>0.010350</td>\n",
       "      <td>0.010325</td>\n",
       "      <td>0.008525</td>\n",
       "    </tr>\n",
       "    <tr>\n",
       "      <th>max</th>\n",
       "      <td>0.137100</td>\n",
       "      <td>0.233900</td>\n",
       "      <td>0.305900</td>\n",
       "      <td>0.426400</td>\n",
       "      <td>0.401000</td>\n",
       "      <td>0.382300</td>\n",
       "      <td>0.372900</td>\n",
       "      <td>0.459000</td>\n",
       "      <td>0.682800</td>\n",
       "      <td>0.710600</td>\n",
       "      <td>...</td>\n",
       "      <td>0.100400</td>\n",
       "      <td>0.070900</td>\n",
       "      <td>0.039000</td>\n",
       "      <td>0.035200</td>\n",
       "      <td>0.044700</td>\n",
       "      <td>0.039400</td>\n",
       "      <td>0.035500</td>\n",
       "      <td>0.044000</td>\n",
       "      <td>0.036400</td>\n",
       "      <td>0.043900</td>\n",
       "    </tr>\n",
       "  </tbody>\n",
       "</table>\n",
       "<p>8 rows × 60 columns</p>\n",
       "</div>"
      ],
      "text/plain": [
       "               0           1           2           3           4           5   \\\n",
       "count  208.000000  208.000000  208.000000  208.000000  208.000000  208.000000   \n",
       "mean     0.029164    0.038437    0.043832    0.053892    0.075202    0.104570   \n",
       "std      0.022991    0.032960    0.038428    0.046528    0.055552    0.059105   \n",
       "min      0.001500    0.000600    0.001500    0.005800    0.006700    0.010200   \n",
       "25%      0.013350    0.016450    0.018950    0.024375    0.038050    0.067025   \n",
       "50%      0.022800    0.030800    0.034300    0.044050    0.062500    0.092150   \n",
       "75%      0.035550    0.047950    0.057950    0.064500    0.100275    0.134125   \n",
       "max      0.137100    0.233900    0.305900    0.426400    0.401000    0.382300   \n",
       "\n",
       "               6           7           8           9   ...          50  \\\n",
       "count  208.000000  208.000000  208.000000  208.000000  ...  208.000000   \n",
       "mean     0.121747    0.134799    0.178003    0.208259  ...    0.016069   \n",
       "std      0.061788    0.085152    0.118387    0.134416  ...    0.012008   \n",
       "min      0.003300    0.005500    0.007500    0.011300  ...    0.000000   \n",
       "25%      0.080900    0.080425    0.097025    0.111275  ...    0.008425   \n",
       "50%      0.106950    0.112100    0.152250    0.182400  ...    0.013900   \n",
       "75%      0.154000    0.169600    0.233425    0.268700  ...    0.020825   \n",
       "max      0.372900    0.459000    0.682800    0.710600  ...    0.100400   \n",
       "\n",
       "               51          52          53          54          55          56  \\\n",
       "count  208.000000  208.000000  208.000000  208.000000  208.000000  208.000000   \n",
       "mean     0.013420    0.010709    0.010941    0.009290    0.008222    0.007820   \n",
       "std      0.009634    0.007060    0.007301    0.007088    0.005736    0.005785   \n",
       "min      0.000800    0.000500    0.001000    0.000600    0.000400    0.000300   \n",
       "25%      0.007275    0.005075    0.005375    0.004150    0.004400    0.003700   \n",
       "50%      0.011400    0.009550    0.009300    0.007500    0.006850    0.005950   \n",
       "75%      0.016725    0.014900    0.014500    0.012100    0.010575    0.010425   \n",
       "max      0.070900    0.039000    0.035200    0.044700    0.039400    0.035500   \n",
       "\n",
       "               57          58          59  \n",
       "count  208.000000  208.000000  208.000000  \n",
       "mean     0.007949    0.007941    0.006507  \n",
       "std      0.006470    0.006181    0.005031  \n",
       "min      0.000300    0.000100    0.000600  \n",
       "25%      0.003600    0.003675    0.003100  \n",
       "50%      0.005800    0.006400    0.005300  \n",
       "75%      0.010350    0.010325    0.008525  \n",
       "max      0.044000    0.036400    0.043900  \n",
       "\n",
       "[8 rows x 60 columns]"
      ]
     },
     "execution_count": 5,
     "metadata": {},
     "output_type": "execute_result"
    }
   ],
   "source": [
    "sonar_data.describe()"
   ]
  },
  {
   "cell_type": "code",
   "execution_count": 6,
   "id": "f7bf5107",
   "metadata": {
    "execution": {
     "iopub.execute_input": "2025-03-03T16:40:22.435562Z",
     "iopub.status.busy": "2025-03-03T16:40:22.435210Z",
     "iopub.status.idle": "2025-03-03T16:40:22.445639Z",
     "shell.execute_reply": "2025-03-03T16:40:22.444342Z"
    },
    "id": "_I5xrLf0axjY",
    "outputId": "c0e09180-1918-4626-8a78-44e72f391eab",
    "papermill": {
     "duration": 0.019247,
     "end_time": "2025-03-03T16:40:22.447560",
     "exception": false,
     "start_time": "2025-03-03T16:40:22.428313",
     "status": "completed"
    },
    "tags": []
   },
   "outputs": [
    {
     "data": {
      "text/plain": [
       "60\n",
       "M    111\n",
       "R     97\n",
       "Name: count, dtype: int64"
      ]
     },
     "execution_count": 6,
     "metadata": {},
     "output_type": "execute_result"
    }
   ],
   "source": [
    "sonar_data[60].value_counts()"
   ]
  },
  {
   "cell_type": "markdown",
   "id": "5d0b6312",
   "metadata": {
    "id": "2KptR6ztbuZ-",
    "papermill": {
     "duration": 0.004565,
     "end_time": "2025-03-03T16:40:22.457215",
     "exception": false,
     "start_time": "2025-03-03T16:40:22.452650",
     "status": "completed"
    },
    "tags": []
   },
   "source": [
    "M--->Mine\n",
    "\n",
    "R--->Rock"
   ]
  },
  {
   "cell_type": "code",
   "execution_count": 7,
   "id": "6f4f46bb",
   "metadata": {
    "execution": {
     "iopub.execute_input": "2025-03-03T16:40:22.469448Z",
     "iopub.status.busy": "2025-03-03T16:40:22.469021Z",
     "iopub.status.idle": "2025-03-03T16:40:22.492696Z",
     "shell.execute_reply": "2025-03-03T16:40:22.491909Z"
    },
    "id": "QC6uOJ5VbI2X",
    "outputId": "73a0c107-10b8-4914-c61b-8d7217b6b95e",
    "papermill": {
     "duration": 0.031177,
     "end_time": "2025-03-03T16:40:22.494222",
     "exception": false,
     "start_time": "2025-03-03T16:40:22.463045",
     "status": "completed"
    },
    "tags": []
   },
   "outputs": [
    {
     "data": {
      "text/html": [
       "<div>\n",
       "<style scoped>\n",
       "    .dataframe tbody tr th:only-of-type {\n",
       "        vertical-align: middle;\n",
       "    }\n",
       "\n",
       "    .dataframe tbody tr th {\n",
       "        vertical-align: top;\n",
       "    }\n",
       "\n",
       "    .dataframe thead th {\n",
       "        text-align: right;\n",
       "    }\n",
       "</style>\n",
       "<table border=\"1\" class=\"dataframe\">\n",
       "  <thead>\n",
       "    <tr style=\"text-align: right;\">\n",
       "      <th></th>\n",
       "      <th>0</th>\n",
       "      <th>1</th>\n",
       "      <th>2</th>\n",
       "      <th>3</th>\n",
       "      <th>4</th>\n",
       "      <th>5</th>\n",
       "      <th>6</th>\n",
       "      <th>7</th>\n",
       "      <th>8</th>\n",
       "      <th>9</th>\n",
       "      <th>...</th>\n",
       "      <th>50</th>\n",
       "      <th>51</th>\n",
       "      <th>52</th>\n",
       "      <th>53</th>\n",
       "      <th>54</th>\n",
       "      <th>55</th>\n",
       "      <th>56</th>\n",
       "      <th>57</th>\n",
       "      <th>58</th>\n",
       "      <th>59</th>\n",
       "    </tr>\n",
       "    <tr>\n",
       "      <th>60</th>\n",
       "      <th></th>\n",
       "      <th></th>\n",
       "      <th></th>\n",
       "      <th></th>\n",
       "      <th></th>\n",
       "      <th></th>\n",
       "      <th></th>\n",
       "      <th></th>\n",
       "      <th></th>\n",
       "      <th></th>\n",
       "      <th></th>\n",
       "      <th></th>\n",
       "      <th></th>\n",
       "      <th></th>\n",
       "      <th></th>\n",
       "      <th></th>\n",
       "      <th></th>\n",
       "      <th></th>\n",
       "      <th></th>\n",
       "      <th></th>\n",
       "      <th></th>\n",
       "    </tr>\n",
       "  </thead>\n",
       "  <tbody>\n",
       "    <tr>\n",
       "      <th>M</th>\n",
       "      <td>0.034989</td>\n",
       "      <td>0.045544</td>\n",
       "      <td>0.050720</td>\n",
       "      <td>0.064768</td>\n",
       "      <td>0.086715</td>\n",
       "      <td>0.111864</td>\n",
       "      <td>0.128359</td>\n",
       "      <td>0.149832</td>\n",
       "      <td>0.213492</td>\n",
       "      <td>0.251022</td>\n",
       "      <td>...</td>\n",
       "      <td>0.019352</td>\n",
       "      <td>0.016014</td>\n",
       "      <td>0.011643</td>\n",
       "      <td>0.012185</td>\n",
       "      <td>0.009923</td>\n",
       "      <td>0.008914</td>\n",
       "      <td>0.007825</td>\n",
       "      <td>0.009060</td>\n",
       "      <td>0.008695</td>\n",
       "      <td>0.006930</td>\n",
       "    </tr>\n",
       "    <tr>\n",
       "      <th>R</th>\n",
       "      <td>0.022498</td>\n",
       "      <td>0.030303</td>\n",
       "      <td>0.035951</td>\n",
       "      <td>0.041447</td>\n",
       "      <td>0.062028</td>\n",
       "      <td>0.096224</td>\n",
       "      <td>0.114180</td>\n",
       "      <td>0.117596</td>\n",
       "      <td>0.137392</td>\n",
       "      <td>0.159325</td>\n",
       "      <td>...</td>\n",
       "      <td>0.012311</td>\n",
       "      <td>0.010453</td>\n",
       "      <td>0.009640</td>\n",
       "      <td>0.009518</td>\n",
       "      <td>0.008567</td>\n",
       "      <td>0.007430</td>\n",
       "      <td>0.007814</td>\n",
       "      <td>0.006677</td>\n",
       "      <td>0.007078</td>\n",
       "      <td>0.006024</td>\n",
       "    </tr>\n",
       "  </tbody>\n",
       "</table>\n",
       "<p>2 rows × 60 columns</p>\n",
       "</div>"
      ],
      "text/plain": [
       "          0         1         2         3         4         5         6   \\\n",
       "60                                                                         \n",
       "M   0.034989  0.045544  0.050720  0.064768  0.086715  0.111864  0.128359   \n",
       "R   0.022498  0.030303  0.035951  0.041447  0.062028  0.096224  0.114180   \n",
       "\n",
       "          7         8         9   ...        50        51        52        53  \\\n",
       "60                                ...                                           \n",
       "M   0.149832  0.213492  0.251022  ...  0.019352  0.016014  0.011643  0.012185   \n",
       "R   0.117596  0.137392  0.159325  ...  0.012311  0.010453  0.009640  0.009518   \n",
       "\n",
       "          54        55        56        57        58        59  \n",
       "60                                                              \n",
       "M   0.009923  0.008914  0.007825  0.009060  0.008695  0.006930  \n",
       "R   0.008567  0.007430  0.007814  0.006677  0.007078  0.006024  \n",
       "\n",
       "[2 rows x 60 columns]"
      ]
     },
     "execution_count": 7,
     "metadata": {},
     "output_type": "execute_result"
    }
   ],
   "source": [
    "sonar_data.groupby(60).mean()"
   ]
  },
  {
   "cell_type": "code",
   "execution_count": 8,
   "id": "6df96e54",
   "metadata": {
    "execution": {
     "iopub.execute_input": "2025-03-03T16:40:22.505685Z",
     "iopub.status.busy": "2025-03-03T16:40:22.505338Z",
     "iopub.status.idle": "2025-03-03T16:40:22.511624Z",
     "shell.execute_reply": "2025-03-03T16:40:22.510773Z"
    },
    "id": "q1z7QzTVcCJu",
    "papermill": {
     "duration": 0.013885,
     "end_time": "2025-03-03T16:40:22.513193",
     "exception": false,
     "start_time": "2025-03-03T16:40:22.499308",
     "status": "completed"
    },
    "tags": []
   },
   "outputs": [],
   "source": [
    "#separating data and lebals\n",
    "x= sonar_data.drop(columns=60, axis=1)\n",
    "y= sonar_data[60]\n",
    "y = pd.get_dummies(y,drop_first=True)"
   ]
  },
  {
   "cell_type": "code",
   "execution_count": 9,
   "id": "e6c93e6d",
   "metadata": {
    "execution": {
     "iopub.execute_input": "2025-03-03T16:40:22.524338Z",
     "iopub.status.busy": "2025-03-03T16:40:22.523786Z",
     "iopub.status.idle": "2025-03-03T16:40:22.533734Z",
     "shell.execute_reply": "2025-03-03T16:40:22.533018Z"
    },
    "papermill": {
     "duration": 0.017075,
     "end_time": "2025-03-03T16:40:22.535245",
     "exception": false,
     "start_time": "2025-03-03T16:40:22.518170",
     "status": "completed"
    },
    "tags": []
   },
   "outputs": [
    {
     "data": {
      "text/html": [
       "<div>\n",
       "<style scoped>\n",
       "    .dataframe tbody tr th:only-of-type {\n",
       "        vertical-align: middle;\n",
       "    }\n",
       "\n",
       "    .dataframe tbody tr th {\n",
       "        vertical-align: top;\n",
       "    }\n",
       "\n",
       "    .dataframe thead th {\n",
       "        text-align: right;\n",
       "    }\n",
       "</style>\n",
       "<table border=\"1\" class=\"dataframe\">\n",
       "  <thead>\n",
       "    <tr style=\"text-align: right;\">\n",
       "      <th></th>\n",
       "      <th>0</th>\n",
       "      <th>1</th>\n",
       "      <th>2</th>\n",
       "    </tr>\n",
       "  </thead>\n",
       "  <tbody>\n",
       "    <tr>\n",
       "      <th>0</th>\n",
       "      <td>0.0200</td>\n",
       "      <td>0.0371</td>\n",
       "      <td>0.0428</td>\n",
       "    </tr>\n",
       "    <tr>\n",
       "      <th>1</th>\n",
       "      <td>0.0453</td>\n",
       "      <td>0.0523</td>\n",
       "      <td>0.0843</td>\n",
       "    </tr>\n",
       "    <tr>\n",
       "      <th>2</th>\n",
       "      <td>0.0262</td>\n",
       "      <td>0.0582</td>\n",
       "      <td>0.1099</td>\n",
       "    </tr>\n",
       "    <tr>\n",
       "      <th>3</th>\n",
       "      <td>0.0100</td>\n",
       "      <td>0.0171</td>\n",
       "      <td>0.0623</td>\n",
       "    </tr>\n",
       "    <tr>\n",
       "      <th>4</th>\n",
       "      <td>0.0762</td>\n",
       "      <td>0.0666</td>\n",
       "      <td>0.0481</td>\n",
       "    </tr>\n",
       "    <tr>\n",
       "      <th>...</th>\n",
       "      <td>...</td>\n",
       "      <td>...</td>\n",
       "      <td>...</td>\n",
       "    </tr>\n",
       "    <tr>\n",
       "      <th>203</th>\n",
       "      <td>0.0187</td>\n",
       "      <td>0.0346</td>\n",
       "      <td>0.0168</td>\n",
       "    </tr>\n",
       "    <tr>\n",
       "      <th>204</th>\n",
       "      <td>0.0323</td>\n",
       "      <td>0.0101</td>\n",
       "      <td>0.0298</td>\n",
       "    </tr>\n",
       "    <tr>\n",
       "      <th>205</th>\n",
       "      <td>0.0522</td>\n",
       "      <td>0.0437</td>\n",
       "      <td>0.0180</td>\n",
       "    </tr>\n",
       "    <tr>\n",
       "      <th>206</th>\n",
       "      <td>0.0303</td>\n",
       "      <td>0.0353</td>\n",
       "      <td>0.0490</td>\n",
       "    </tr>\n",
       "    <tr>\n",
       "      <th>207</th>\n",
       "      <td>0.0260</td>\n",
       "      <td>0.0363</td>\n",
       "      <td>0.0136</td>\n",
       "    </tr>\n",
       "  </tbody>\n",
       "</table>\n",
       "<p>208 rows × 3 columns</p>\n",
       "</div>"
      ],
      "text/plain": [
       "          0       1       2\n",
       "0    0.0200  0.0371  0.0428\n",
       "1    0.0453  0.0523  0.0843\n",
       "2    0.0262  0.0582  0.1099\n",
       "3    0.0100  0.0171  0.0623\n",
       "4    0.0762  0.0666  0.0481\n",
       "..      ...     ...     ...\n",
       "203  0.0187  0.0346  0.0168\n",
       "204  0.0323  0.0101  0.0298\n",
       "205  0.0522  0.0437  0.0180\n",
       "206  0.0303  0.0353  0.0490\n",
       "207  0.0260  0.0363  0.0136\n",
       "\n",
       "[208 rows x 3 columns]"
      ]
     },
     "execution_count": 9,
     "metadata": {},
     "output_type": "execute_result"
    }
   ],
   "source": [
    "x.iloc[:,:3]"
   ]
  },
  {
   "cell_type": "code",
   "execution_count": 10,
   "id": "c9f96206",
   "metadata": {
    "execution": {
     "iopub.execute_input": "2025-03-03T16:40:22.547334Z",
     "iopub.status.busy": "2025-03-03T16:40:22.547036Z",
     "iopub.status.idle": "2025-03-03T16:40:23.110344Z",
     "shell.execute_reply": "2025-03-03T16:40:23.109214Z"
    },
    "papermill": {
     "duration": 0.571245,
     "end_time": "2025-03-03T16:40:23.112100",
     "exception": false,
     "start_time": "2025-03-03T16:40:22.540855",
     "status": "completed"
    },
    "tags": []
   },
   "outputs": [
    {
     "data": {
      "text/plain": [
       "<Axes: >"
      ]
     },
     "execution_count": 10,
     "metadata": {},
     "output_type": "execute_result"
    },
    {
     "data": {
      "image/png": "[encoded data removed]",
      "text/plain": [
       "<Figure size 2000x2000 with 2 Axes>"
      ]
     },
     "metadata": {},
     "output_type": "display_data"
    }
   ],
   "source": [
    "plt.figure(figsize =( 20,20))\n",
    "sns.heatmap(x.iloc[:,:10].corr(),annot = True)"
   ]
  },
  {
   "cell_type": "code",
   "execution_count": 11,
   "id": "49c1ade9",
   "metadata": {
    "execution": {
     "iopub.execute_input": "2025-03-03T16:40:23.127552Z",
     "iopub.status.busy": "2025-03-03T16:40:23.127231Z",
     "iopub.status.idle": "2025-03-03T16:40:23.131678Z",
     "shell.execute_reply": "2025-03-03T16:40:23.130978Z"
    },
    "id": "He2pJj_HccZI",
    "outputId": "83d2b5d9-23ad-41b6-f89e-e3b21be42e3b",
    "papermill": {
     "duration": 0.013532,
     "end_time": "2025-03-03T16:40:23.133135",
     "exception": false,
     "start_time": "2025-03-03T16:40:23.119603",
     "status": "completed"
    },
    "tags": []
   },
   "outputs": [
    {
     "name": "stdout",
     "output_type": "stream",
     "text": [
      "(208, 60)\n",
      "(208, 1)\n"
     ]
    }
   ],
   "source": [
    "print(x.shape)\n",
    "print(y.shape)"
   ]
  },
  {
   "cell_type": "markdown",
   "id": "95f50434",
   "metadata": {
    "id": "U4_nyfdZcjcv",
    "papermill": {
     "duration": 0.005618,
     "end_time": "2025-03-03T16:40:23.144970",
     "exception": false,
     "start_time": "2025-03-03T16:40:23.139352",
     "status": "completed"
    },
    "tags": []
   },
   "source": [
    "training and test data"
   ]
  },
  {
   "cell_type": "code",
   "execution_count": 12,
   "id": "6a081a9c",
   "metadata": {
    "execution": {
     "iopub.execute_input": "2025-03-03T16:40:23.158277Z",
     "iopub.status.busy": "2025-03-03T16:40:23.157934Z",
     "iopub.status.idle": "2025-03-03T16:40:23.168990Z",
     "shell.execute_reply": "2025-03-03T16:40:23.168204Z"
    },
    "id": "W-GXFbxucglo",
    "papermill": {
     "duration": 0.019603,
     "end_time": "2025-03-03T16:40:23.170528",
     "exception": false,
     "start_time": "2025-03-03T16:40:23.150925",
     "status": "completed"
    },
    "tags": []
   },
   "outputs": [],
   "source": [
    "x_train, x_test, y_train, y_test= train_test_split(x,y,test_size=0.1,stratify=y,random_state=1)"
   ]
  },
  {
   "cell_type": "code",
   "execution_count": 13,
   "id": "520faab2",
   "metadata": {
    "execution": {
     "iopub.execute_input": "2025-03-03T16:40:23.184374Z",
     "iopub.status.busy": "2025-03-03T16:40:23.184025Z",
     "iopub.status.idle": "2025-03-03T16:40:23.190379Z",
     "shell.execute_reply": "2025-03-03T16:40:23.188980Z"
    },
    "id": "cwOVg1JrdKgj",
    "outputId": "cc93a837-8efd-45dc-a1f2-8c8971af021d",
    "papermill": {
     "duration": 0.015706,
     "end_time": "2025-03-03T16:40:23.192514",
     "exception": false,
     "start_time": "2025-03-03T16:40:23.176808",
     "status": "completed"
    },
    "tags": []
   },
   "outputs": [
    {
     "name": "stdout",
     "output_type": "stream",
     "text": [
      "(208, 60) (187, 60) (21, 60) (21, 1)\n"
     ]
    }
   ],
   "source": [
    "print(x.shape, x_train.shape, x_test.shape, y_test.shape)"
   ]
  },
  {
   "cell_type": "code",
   "execution_count": 14,
   "id": "57c9c709",
   "metadata": {
    "execution": {
     "iopub.execute_input": "2025-03-03T16:40:23.207248Z",
     "iopub.status.busy": "2025-03-03T16:40:23.206870Z",
     "iopub.status.idle": "2025-03-03T16:40:23.222860Z",
     "shell.execute_reply": "2025-03-03T16:40:23.221454Z"
    },
    "id": "esPKlAf1dpIB",
    "outputId": "2b635c6b-8749-4e7c-ab10-b56eca8892c1",
    "papermill": {
     "duration": 0.025244,
     "end_time": "2025-03-03T16:40:23.224627",
     "exception": false,
     "start_time": "2025-03-03T16:40:23.199383",
     "status": "completed"
    },
    "tags": []
   },
   "outputs": [
    {
     "name": "stdout",
     "output_type": "stream",
     "text": [
      "         0       1       2       3       4       5       6       7       8   \\\n",
      "115  0.0414  0.0436  0.0447  0.0844  0.0419  0.1215  0.2002  0.1516  0.0818   \n",
      "38   0.0123  0.0022  0.0196  0.0206  0.0180  0.0492  0.0033  0.0398  0.0791   \n",
      "56   0.0152  0.0102  0.0113  0.0263  0.0097  0.0391  0.0857  0.0915  0.0949   \n",
      "123  0.0270  0.0163  0.0341  0.0247  0.0822  0.1256  0.1323  0.1584  0.2017   \n",
      "18   0.0270  0.0092  0.0145  0.0278  0.0412  0.0757  0.1026  0.1138  0.0794   \n",
      "..      ...     ...     ...     ...     ...     ...     ...     ...     ...   \n",
      "140  0.0412  0.1135  0.0518  0.0232  0.0646  0.1124  0.1787  0.2407  0.2682   \n",
      "5    0.0286  0.0453  0.0277  0.0174  0.0384  0.0990  0.1201  0.1833  0.2105   \n",
      "154  0.0117  0.0069  0.0279  0.0583  0.0915  0.1267  0.1577  0.1927  0.2361   \n",
      "131  0.1150  0.1163  0.0866  0.0358  0.0232  0.1267  0.2417  0.2661  0.4346   \n",
      "203  0.0187  0.0346  0.0168  0.0177  0.0393  0.1630  0.2028  0.1694  0.2328   \n",
      "\n",
      "         9   ...      50      51      52      53      54      55      56  \\\n",
      "115  0.1975  ...  0.0222  0.0045  0.0136  0.0113  0.0053  0.0165  0.0141   \n",
      "38   0.0475  ...  0.0149  0.0125  0.0134  0.0026  0.0038  0.0018  0.0113   \n",
      "56   0.1504  ...  0.0048  0.0049  0.0041  0.0036  0.0013  0.0046  0.0037   \n",
      "123  0.2122  ...  0.0197  0.0189  0.0204  0.0085  0.0043  0.0092  0.0138   \n",
      "18   0.1520  ...  0.0045  0.0084  0.0010  0.0018  0.0068  0.0039  0.0120   \n",
      "..      ...  ...     ...     ...     ...     ...     ...     ...     ...   \n",
      "140  0.2058  ...  0.0798  0.0376  0.0143  0.0272  0.0127  0.0166  0.0095   \n",
      "5    0.3039  ...  0.0104  0.0045  0.0014  0.0038  0.0013  0.0089  0.0057   \n",
      "154  0.2169  ...  0.0039  0.0053  0.0029  0.0020  0.0013  0.0029  0.0020   \n",
      "131  0.5378  ...  0.0228  0.0099  0.0065  0.0085  0.0166  0.0110  0.0190   \n",
      "203  0.2684  ...  0.0203  0.0116  0.0098  0.0199  0.0033  0.0101  0.0065   \n",
      "\n",
      "         57      58      59  \n",
      "115  0.0077  0.0246  0.0198  \n",
      "38   0.0058  0.0047  0.0071  \n",
      "56   0.0011  0.0034  0.0033  \n",
      "123  0.0094  0.0105  0.0093  \n",
      "18   0.0132  0.0070  0.0088  \n",
      "..      ...     ...     ...  \n",
      "140  0.0225  0.0098  0.0085  \n",
      "5    0.0027  0.0051  0.0062  \n",
      "154  0.0062  0.0026  0.0052  \n",
      "131  0.0141  0.0068  0.0086  \n",
      "203  0.0115  0.0193  0.0157  \n",
      "\n",
      "[187 rows x 60 columns]\n",
      "         R\n",
      "115  False\n",
      "38    True\n",
      "56    True\n",
      "123  False\n",
      "18    True\n",
      "..     ...\n",
      "140  False\n",
      "5     True\n",
      "154  False\n",
      "131  False\n",
      "203  False\n",
      "\n",
      "[187 rows x 1 columns]\n"
     ]
    }
   ],
   "source": [
    "print(x_train)\n",
    "print(y_train)"
   ]
  },
  {
   "cell_type": "markdown",
   "id": "8867ea95",
   "metadata": {
    "id": "etEa6HI1dWlr",
    "papermill": {
     "duration": 0.006173,
     "end_time": "2025-03-03T16:40:23.237490",
     "exception": false,
     "start_time": "2025-03-03T16:40:23.231317",
     "status": "completed"
    },
    "tags": []
   },
   "source": [
    "model training--->SVM"
   ]
  },
  {
   "cell_type": "code",
   "execution_count": 18,
   "id": "b617e792",
   "metadata": {},
   "outputs": [
    {
     "name": "stdout",
     "output_type": "stream",
     "text": [
      "SVM accuracy: 0.7142857142857143\n"
     ]
    }
   ],
   "source": [
    "# 练习：使用SVM进行训练与测试，并计算指标\n",
    "'''model = ... # 定义模型\n",
    "... # 训练\n",
    "... # 测试\n",
    "... # 计算正确率\n",
    "print(f'accuracy: {...}')\n",
    "'''\n",
    "\n",
    "# 练习：使用SVM进行训练与测试，并计算指标\n",
    "from sklearn.svm import SVC\n",
    "\n",
    "model = SVC(kernel='linear')  # 定义模型\n",
    "model.fit(x_train, y_train.values.ravel())  # 训练\n",
    "y_pred = model.predict(x_test)  # 测试\n",
    "accuracy = accuracy_score(y_test, y_pred)  # 计算正确率\n",
    "print(f'SVM accuracy: {accuracy}')\n"
   ]
  },
  {
   "cell_type": "code",
   "execution_count": 19,
   "id": "cf12bdf5",
   "metadata": {
    "papermill": {
     "duration": 0.006728,
     "end_time": "2025-03-03T16:40:23.900531",
     "exception": false,
     "start_time": "2025-03-03T16:40:23.893803",
     "status": "completed"
    },
    "tags": []
   },
   "outputs": [
    {
     "name": "stdout",
     "output_type": "stream",
     "text": [
      "Logistic Regression accuracy: 0.7619047619047619\n"
     ]
    }
   ],
   "source": [
    "# 练习：使用线性模型进行训练与测试，并计算指标\n",
    "'''model = ... # 定义模型\n",
    "... # 训练\n",
    "... # 测试\n",
    "... # 计算正确率\n",
    "print(f'accuracy: {...}')\n",
    "'''\n",
    "# 练习：使用线性模型进行训练与测试，并计算指标\n",
    "from sklearn.linear_model import LogisticRegression\n",
    "\n",
    "model = LogisticRegression(max_iter=1000)  # 定义模型\n",
    "model.fit(x_train, y_train.values.ravel())  # 训练\n",
    "y_pred = model.predict(x_test)  # 测试\n",
    "accuracy = accuracy_score(y_test, y_pred)  # 计算正确率\n",
    "print(f'Logistic Regression accuracy: {accuracy}')\n"
   ]
  },
  {
   "cell_type": "code",
   "execution_count": 22,
   "id": "8b42eb11",
   "metadata": {},
   "outputs": [
    {
     "name": "stdout",
     "output_type": "stream",
     "text": [
      "Random Forest accuracy: 0.7619047619047619\n"
     ]
    }
   ],
   "source": [
    "# 练习：使用随机森林进行训练与测试，并计算指标\n",
    "'''model = ... # 定义模型\n",
    "... # 训练\n",
    "... # 测试\n",
    "... # 计算正确率\n",
    "print(f'accuracy: {...}')\n",
    "'''\n",
    "# 练习：使用随机森林进行训练与测试，并计算指标\n",
    "from sklearn.ensemble import RandomForestClassifier\n",
    "\n",
    "model = RandomForestClassifier(random_state=1)  # 定义模型\n",
    "model.fit(x_train, y_train.values.ravel())  # 训练\n",
    "y_pred = model.predict(x_test)  # 测试\n",
    "accuracy = accuracy_score(y_test, y_pred)  # 计算正确率\n",
    "print(f'Random Forest accuracy: {accuracy}')\n"
   ]
  }
 ],
 "metadata": {
  "colab": {
   "provenance": []
  },
  "kaggle": {
   "accelerator": "none",
   "dataSources": [
    {
     "datasetId": 4729000,
     "sourceId": 8024617,
     "sourceType": "datasetVersion"
    }
   ],
   "dockerImageVersionId": 30746,
   "isGpuEnabled": false,
   "isInternetEnabled": false,
   "language": "python",
   "sourceType": "notebook"
  },
  "kernelspec": {
   "display_name": "base",
   "language": "python",
   "name": "python3"
  },
  "language_info": {
   "codemirror_mode": {
    "name": "ipython",
    "version": 3
   },
   "file_extension": ".py",
   "mimetype": "text/x-python",
   "name": "python",
   "nbconvert_exporter": "python",
   "pygments_lexer": "ipython3",
   "version": "3.12.3"
  },
  "papermill": {
   "default_parameters": {},
   "duration": 8.172261,
   "end_time": "2025-03-03T16:40:24.529205",
   "environment_variables": {},
   "exception": null,
   "input_path": "__notebook__.ipynb",
   "output_path": "__notebook__.ipynb",
   "parameters": {},
   "start_time": "2025-03-03T16:40:16.356944",
   "version": "2.5.0"
  }
 },
 "nbformat": 4,
 "nbformat_minor": 5
}
