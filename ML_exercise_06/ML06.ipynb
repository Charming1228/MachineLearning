{
 "cells": [
  {
   "cell_type": "code",
   "execution_count": null,
   "id": "5a524024",
   "metadata": {},
   "outputs": [],
   "source": [
    "from tensorflow.keras.datasets import mnist\n",
    "import numpy as np\n",
    "from sklearn.decomposition import PCA\n",
    "from sklearn.preprocessing import StandardScaler\n",
    "\n",
    "# 加载数据\n",
    "(x_train, y_train), (_, _) = mnist.load_data()\n",
    "x = x_train[:10000]  # 为了加快运行，选取前10000张图片\n",
    "y = y_train[:10000]\n",
    "\n",
    "# 展平 & 标准化\n",
    "x = x.reshape((x.shape[0], -1))\n",
    "x = StandardScaler().fit_transform(x)\n",
    "\n",
    "# PCA 降维到50维（便于聚类）\n",
    "pca = PCA(n_components=50)\n",
    "x_pca = pca.fit_transform(x)\n"
   ]
  },
  {
   "cell_type": "code",
   "execution_count": null,
   "id": "bd7c4ce1",
   "metadata": {},
   "outputs": [],
   "source": [
    "from sklearn.cluster import KMeans\n",
    "from sklearn.metrics import adjusted_rand_score\n",
    "\n",
    "kmeans = KMeans(n_clusters=10, random_state=0)\n",
    "clusters = kmeans.fit_predict(x_pca)\n",
    "\n",
    "# 评估：ARI 越接近1越好\n",
    "ari_kmeans = adjusted_rand_score(y, clusters)\n",
    "print(f\"K-Means ARI Score: {ari_kmeans:.4f}\")\n"
   ]
  },
  {
   "cell_type": "code",
   "execution_count": null,
   "id": "fb7356e1",
   "metadata": {},
   "outputs": [],
   "source": [
    "from sklearn.cluster import DBSCAN\n",
    "\n",
    "dbscan = DBSCAN(eps=7, min_samples=5)\n",
    "db_clusters = dbscan.fit_predict(x_pca)\n",
    "\n",
    "# 去除-1（噪声）\n",
    "mask = db_clusters != -1\n",
    "ari_dbscan = adjusted_rand_score(y[mask], db_clusters[mask])\n",
    "print(f\"DBSCAN ARI Score: {ari_dbscan:.4f}\")\n"
   ]
  },
  {
   "cell_type": "code",
   "execution_count": null,
   "id": "df818047",
   "metadata": {},
   "outputs": [],
   "source": [
    "import matplotlib.pyplot as plt\n",
    "\n",
    "pca_2d = PCA(n_components=2).fit_transform(x)\n",
    "plt.figure(figsize=(12,5))\n",
    "\n",
    "plt.subplot(1,2,1)\n",
    "plt.scatter(pca_2d[:,0], pca_2d[:,1], c=clusters, cmap='tab10', s=2)\n",
    "plt.title('KMeans Clustering')\n",
    "\n",
    "plt.subplot(1,2,2)\n",
    "plt.scatter(pca_2d[:,0], pca_2d[:,1], c=db_clusters, cmap='tab10', s=2)\n",
    "plt.title('DBSCAN Clustering')\n",
    "\n",
    "plt.show()\n"
   ]
  },
  {
   "cell_type": "code",
   "execution_count": null,
   "id": "7848fa6f",
   "metadata": {},
   "outputs": [],
   "source": []
  }
 ],
 "metadata": {
  "kernelspec": {
   "display_name": "base",
   "language": "python",
   "name": "python3"
  },
  "language_info": {
   "name": "python",
   "version": "3.12.3"
  }
 },
 "nbformat": 4,
 "nbformat_minor": 5
}
